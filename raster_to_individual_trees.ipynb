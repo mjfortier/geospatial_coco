{
 "cells": [
  {
   "cell_type": "code",
   "execution_count": 1,
   "metadata": {},
   "outputs": [],
   "source": [
    "import os\n",
    "import re\n",
    "import geopandas as gpd\n",
    "import rasterio as rio\n",
    "from rasterio.mask import mask\n",
    "from rasterio.windows import from_bounds, transform"
   ]
  },
  {
   "cell_type": "code",
   "execution_count": 2,
   "metadata": {},
   "outputs": [],
   "source": [
    "output_path = './data/tree_classification'\n",
    "use_background_pixels = False\n",
    "\n",
    "if not os.path.exists(output_path):\n",
    "    os.mkdir(output_path)\n",
    "\n",
    "class_map = {}\n",
    "\n",
    "geotiff_paths = ['./data/2021-06-17/zone1/2021-06-17-sbl-z1-rgb-cog.tif', './data/2021-06-17/zone2/2021-06-17-sbl-z2-rgb-cog.tif', './data/2021-06-17/zone3/2021-06-17-sbl-z3-rgb-cog.tif']\n",
    "shapefile_paths = ['./data/Z1_polygons.gpkg', './data/Z2_polygons.gpkg', './data/Z3_polygons.gpkg']\n",
    "\n",
    "\n",
    "for file, shapes in zip(geotiff_paths, shapefile_paths):\n",
    "    zone = re.search(r'Z\\d', shapes).group(0)\n",
    "    with rio.open(file) as tif:\n",
    "\n",
    "        gdf = gpd.read_file(shapes)\n",
    "        for j, shape in gdf.iterrows():\n",
    "                geometry = shape['geometry']\n",
    "                class_label = shape['Label']\n",
    "\n",
    "                try:\n",
    "                    if use_background_pixels:\n",
    "                        minx, miny, maxx, maxy = geometry.bounds\n",
    "                        bbox = ((minx, miny), (maxx, maxy))\n",
    "                        window = from_bounds(minx, miny, maxx, maxy, tif.transform)\n",
    "                        out_image = tif.read(window=window)\n",
    "                        out_transform = transform(window, tif.transform)\n",
    "                    else:\n",
    "                        out_image, out_transform = mask(tif, [geometry], crop=True)\n",
    "                except:\n",
    "                     print(f'error masking shape {j} in zone {zone}')\n",
    "                     continue\n",
    "                out_meta = tif.meta.copy()\n",
    "                out_meta.update({\n",
    "                    \"driver\": \"GTiff\",\n",
    "                    \"height\": out_image.shape[1],\n",
    "                    \"width\": out_image.shape[2],\n",
    "                    \"transform\": out_transform\n",
    "                })\n",
    "\n",
    "                class_path = os.path.join(output_path, class_label)\n",
    "                if not os.path.exists(class_path):\n",
    "                    os.mkdir(class_path)\n",
    "                    class_map[class_label] = 1\n",
    "                else:\n",
    "                    class_map[class_label] += 1\n",
    "\n",
    "\n",
    "                file_path = os.path.join(class_path, f\"{zone}_{class_map[class_label]}.tif\")\n",
    "                with rio.open(file_path, \"w\", **out_meta) as dest:\n",
    "                    dest.write(out_image)"
   ]
  }
 ],
 "metadata": {
  "kernelspec": {
   "display_name": "scratch",
   "language": "python",
   "name": "python3"
  },
  "language_info": {
   "codemirror_mode": {
    "name": "ipython",
    "version": 3
   },
   "file_extension": ".py",
   "mimetype": "text/x-python",
   "name": "python",
   "nbconvert_exporter": "python",
   "pygments_lexer": "ipython3",
   "version": "3.9.18"
  }
 },
 "nbformat": 4,
 "nbformat_minor": 2
}
